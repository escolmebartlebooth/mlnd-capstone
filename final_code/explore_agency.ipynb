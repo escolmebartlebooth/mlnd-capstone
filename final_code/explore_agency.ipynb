{
 "cells": [
  {
   "cell_type": "markdown",
   "metadata": {},
   "source": [
    "## Data Exploration: Agency Lookup Data\n",
    "In this notebook, we'll do some basic exploration of the agency data lookup file to get a better domain understanding and also to assess if any features can be extracted. It's not absolutely clear what an agency is exactly in this domain but it is most likely a distribution entity rather than the shop where the customers buy the products.\n",
    "\n",
    "This note book requires that the town_state.csv file is in a folder located at '../data' "
   ]
  },
  {
   "cell_type": "code",
   "execution_count": 1,
   "metadata": {
    "collapsed": true
   },
   "outputs": [],
   "source": [
    "# Imports go here\n",
    "import re\n",
    "import time\n",
    "import numpy as np\n",
    "import pandas as pd\n",
    "import matplotlib.pyplot as plt\n",
    "%matplotlib inline\n",
    "\n",
    "# specify a data file path\n",
    "data_location = \"../data/\""
   ]
  },
  {
   "cell_type": "markdown",
   "metadata": {},
   "source": [
    "### Getting Started\n",
    "We'll load the file, produce basic statistics, look at data"
   ]
  },
  {
   "cell_type": "code",
   "execution_count": 2,
   "metadata": {
    "collapsed": false
   },
   "outputs": [
    {
     "name": "stdout",
     "output_type": "stream",
     "text": [
      "there are 790 agencies in the lookup table\n",
      "   AgencyId                   Town             State\n",
      "0      1110     2008 AG. LAGO FILT      MÉXICO, D.F.\n",
      "1      1111  2002 AG. AZCAPOTZALCO      MÉXICO, D.F.\n",
      "2      1112    2004 AG. CUAUTITLAN  ESTADO DE MÉXICO\n",
      "3      1113     2008 AG. LAGO FILT      MÉXICO, D.F.\n",
      "4      1114   2029 AG.IZTAPALAPA 2      MÉXICO, D.F.\n"
     ]
    }
   ],
   "source": [
    "# let's load the product table into a dataframe and produce a basic count of items and show the first 5 lines\n",
    "agency_lookup = \"town_state.csv\"\n",
    "agency_columns = ['AgencyId','Town','State']\n",
    "df_agency = pd.read_csv(data_location + agency_lookup,names=agency_columns,skiprows=1)\n",
    "\n",
    "# basic count of entry...\n",
    "print \"there are {} agencies in the lookup table\".format(len(df_agency.index))\n",
    "\n",
    "# first 5 lines\n",
    "print df_agency.head(5)"
   ]
  },
  {
   "cell_type": "markdown",
   "metadata": {},
   "source": [
    "### First Impressions\n",
    "We can see that there is an Id which is unique for each agency\n",
    "\n",
    "There are Town and State fields. These can be used as additional model features.\n",
    "\n",
    "Let's look for duplicate entries. we don't need to process the file further as we'll take the town and state entities as-is."
   ]
  },
  {
   "cell_type": "code",
   "execution_count": 3,
   "metadata": {
    "collapsed": false
   },
   "outputs": [
    {
     "name": "stdout",
     "output_type": "stream",
     "text": [
      "there are 0 duplicate Agency Ids.\n"
     ]
    }
   ],
   "source": [
    "# check for duplicate agency ids\n",
    "list_of_dupes_id = df_agency.duplicated('AgencyId')\n",
    "\n",
    "# if there are any duplicate Ids, remove all but one as linking to the training data will be flawed otherwise\n",
    "number_duplicate_ids = len(list_of_dupes_id[list_of_dupes_id == True].index)\n",
    "print \"there are {} duplicate Agency Ids.\".format(number_duplicate_ids)\n",
    "df_agency = df_agency.drop_duplicates('AgencyId')"
   ]
  },
  {
   "cell_type": "markdown",
   "metadata": {},
   "source": [
    "### Aggregation\n",
    "Let's look at some aggregates for the agency file. \n",
    "\n",
    "Most of the features extracted have a low mean value count (less than 10) but there are in all cases a good selection of high value count entries for each of the features. This should allow any patterns relating to the features to be identifiable and contribute to the robustness of the model"
   ]
  },
  {
   "cell_type": "code",
   "execution_count": 11,
   "metadata": {
    "collapsed": false
   },
   "outputs": [
    {
     "name": "stdout",
     "output_type": "stream",
     "text": [
      "There are:  260  unique town entries\n"
     ]
    },
    {
     "data": {
      "image/png": "[encoded data removed]",
      "text/plain": [
       "<matplotlib.figure.Figure at 0x9cb6898>"
      ]
     },
     "metadata": {},
     "output_type": "display_data"
    }
   ],
   "source": [
    "# now a histogram of town\n",
    "df_agency['Town'].value_counts().plot.hist(bins=8,sharex=False,title='Town')\n",
    "print 'There are: ',len(df_agency['Town'].value_counts()), ' unique town entries'"
   ]
  },
  {
   "cell_type": "code",
   "execution_count": 8,
   "metadata": {
    "collapsed": false
   },
   "outputs": [
    {
     "name": "stdout",
     "output_type": "stream",
     "text": [
      "There are:  33  unique State entries\n"
     ]
    },
    {
     "data": {
      "image/png": "[encoded data removed]",
      "text/plain": [
       "<matplotlib.figure.Figure at 0x9cc2a58>"
      ]
     },
     "metadata": {},
     "output_type": "display_data"
    }
   ],
   "source": [
    "# let's produce a histogram of states\n",
    "df_agency['State'].value_counts().plot.hist(bins=14,sharex=False,title='State')\n",
    "print 'There are: ', len(df_agency['State'].value_counts()), ' unique State entries'"
   ]
  },
  {
   "cell_type": "code",
   "execution_count": 10,
   "metadata": {
    "collapsed": false
   },
   "outputs": [
    {
     "name": "stdout",
     "output_type": "stream",
     "text": [
      "                        Town  AgencyId\n",
      "8    2013 AG. MEGA NAUCALPAN         8\n",
      "142            2355 JALAPA I         7\n",
      "7       2011 AG. SAN ANTONIO         7\n",
      "207     2468 MATAMOROS BIMBO         6\n",
      "236         2555 ENSENADA II         6\n",
      "134       2322 ZAMORA MADERO         6\n",
      "17      2029 AG.IZTAPALAPA 2         6\n",
      "178       2396 RUIZ CORTINEZ         6\n",
      "227             2505 TORREON         6\n",
      "117       2290 DURANGO BIMBO         6\n",
      "               State  AgencyId\n",
      "9   ESTADO DE MÉXICO        71\n",
      "16      MÉXICO, D.F.        65\n",
      "13           JALISCO        55\n",
      "30          VERACRUZ        45\n",
      "10        GUANAJUATO        39\n",
      "26            SONORA        34\n",
      "20            PUEBLA        34\n",
      "18        NUEVO LEÓN        34\n",
      "14         MICHOACÁN        33\n",
      "28        TAMAULIPAS        32\n"
     ]
    }
   ],
   "source": [
    "# finally let's look at some of the larger count values...\n",
    "print df_agency.groupby(by='Town', \n",
    "                         as_index=False)['AgencyId'].count().sort_values(by='AgencyId',ascending=False).head(10)\n",
    "\n",
    "print df_agency.groupby(by='State', \n",
    "                         as_index=False)['AgencyId'].count().sort_values(by='AgencyId',ascending=False).head(10)"
   ]
  },
  {
   "cell_type": "markdown",
   "metadata": {},
   "source": [
    "### Summary\n",
    "The agency look up has 790 approx entries and contains 2 useful aggregation features: Town and State\n",
    "We can add the town and state features to the training dataset by way of a join on AgencyId"
   ]
  },
  {
   "cell_type": "code",
   "execution_count": null,
   "metadata": {
    "collapsed": true
   },
   "outputs": [],
   "source": []
  }
 ],
 "metadata": {
  "kernelspec": {
   "display_name": "Python 2",
   "language": "python",
   "name": "python2"
  },
  "language_info": {
   "codemirror_mode": {
    "name": "ipython",
    "version": 2
   },
   "file_extension": ".py",
   "mimetype": "text/x-python",
   "name": "python",
   "nbconvert_exporter": "python",
   "pygments_lexer": "ipython2",
   "version": "2.7.12"
  }
 },
 "nbformat": 4,
 "nbformat_minor": 0
}
