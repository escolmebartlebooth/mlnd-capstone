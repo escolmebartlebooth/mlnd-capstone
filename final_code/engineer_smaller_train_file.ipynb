{
 "cells": [
  {
   "cell_type": "markdown",
   "metadata": {},
   "source": [
    "## Creating a smaller training file\n",
    "One approach for creating a cut-down data file for training due to the size of the original training data being too large for the analysis workstation"
   ]
  },
  {
   "cell_type": "code",
   "execution_count": 1,
   "metadata": {
    "collapsed": true
   },
   "outputs": [],
   "source": [
    "# specify a data file path\n",
    "data_location = \"../data/\"\n",
    "\n",
    "# imports\n",
    "import time"
   ]
  },
  {
   "cell_type": "code",
   "execution_count": 2,
   "metadata": {
    "collapsed": true
   },
   "outputs": [],
   "source": [
    "def split_file_by_channel(file_in, file_out, split_channelId = 1):\n",
    "    # open each file\n",
    "    input_file = open(file_in, 'rb')\n",
    "    output_file = open(file_out, 'wb')\n",
    "    \n",
    "    # track the line counts\n",
    "    in_count, out_count = 0, 0\n",
    "    \n",
    "    # track time\n",
    "    t0 = time.time()\n",
    "    \n",
    "    # for each line in the input file, write to the output if the channelId is specified the split\n",
    "    for line in input_file:\n",
    "        in_count += 1\n",
    "        line_list = line.split(',')\n",
    "        if line_list[2]==str(split_channelId):\n",
    "            output_file.write(line)\n",
    "            out_count +=1\n",
    "    \n",
    "    # close the files\n",
    "    input_file.close()\n",
    "    output_file.close()\n",
    "    \n",
    "    total_time = time.time() - t0    \n",
    "    print \"input file had {} lines, output has {} lines. processed in {} seconds\".format(in_count,out_count,total_time)"
   ]
  },
  {
   "cell_type": "code",
   "execution_count": 3,
   "metadata": {
    "collapsed": false
   },
   "outputs": [
    {
     "name": "stdout",
     "output_type": "stream",
     "text": [
      "input file had 74180465 lines, output has 982295 lines. processed in 60.6570000648 seconds\n"
     ]
    }
   ],
   "source": [
    "# let's load the trainin file and split by channel\n",
    "train_file = \"train.csv\"\n",
    "file_in = data_location + train_file\n",
    "file_out = data_location + \"smaller_train.csv\"\n",
    "\n",
    "# call the splitter to create the smaller file - all channels except #1 have a manageable size (~ 1.5% to 10% of the full data)\n",
    "split_file_by_channel(file_in,file_out,11)"
   ]
  },
  {
   "cell_type": "code",
   "execution_count": null,
   "metadata": {
    "collapsed": true
   },
   "outputs": [],
   "source": []
  }
 ],
 "metadata": {
  "kernelspec": {
   "display_name": "Python 2",
   "language": "python",
   "name": "python2"
  },
  "language_info": {
   "codemirror_mode": {
    "name": "ipython",
    "version": 2
   },
   "file_extension": ".py",
   "mimetype": "text/x-python",
   "name": "python",
   "nbconvert_exporter": "python",
   "pygments_lexer": "ipython2",
   "version": "2.7.12"
  }
 },
 "nbformat": 4,
 "nbformat_minor": 0
}
