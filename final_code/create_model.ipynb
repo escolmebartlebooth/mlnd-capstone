{
 "cells": [
  {
   "cell_type": "markdown",
   "metadata": {},
   "source": [
    "### Creating the training model, testing it and refining it\n",
    "We will create a baseline model using an ensemble estimator and then train it, test it and tune it to see how it performs"
   ]
  },
  {
   "cell_type": "code",
   "execution_count": 30,
   "metadata": {
    "collapsed": true
   },
   "outputs": [],
   "source": [
    "# global settings\n",
    "\n",
    "# specify a data file path\n",
    "data_location = \"../data/\"\n",
    "\n",
    "# imports for data exploration\n",
    "import numpy as np\n",
    "import pandas as pd\n",
    "import matplotlib.pyplot as plt\n",
    "%matplotlib inline\n",
    "\n",
    "# further imports to go here\n",
    "import re\n",
    "from sklearn.feature_extraction import DictVectorizer\n",
    "from sklearn.ensemble import GradientBoostingRegressor\n",
    "from sklearn.cross_validation import train_test_split\n",
    "from sklearn.grid_search import GridSearchCV\n",
    "from sklearn.metrics import mean_squared_error\n",
    "import time"
   ]
  },
  {
   "cell_type": "code",
   "execution_count": 31,
   "metadata": {
    "collapsed": false
   },
   "outputs": [
    {
     "name": "stdout",
     "output_type": "stream",
     "text": [
      "loading complete in:  4.3109998703  seconds\n"
     ]
    }
   ],
   "source": [
    "# let's load it back in as a test...\n",
    "train_file = \"engineered_train.csv\"\n",
    "\n",
    "# specify columns for the training data as spanish is not a strong point in London\n",
    "train_columns = ['ClientId','ClientName','ProductId','ProductName','ProductPieces','ProductWeight'\n",
    "                 ,'SupplierCode','AgencyId','Town','State','WeekNumber','ChannelId','RouteId'\n",
    "                 ,'Sales','SalesPesos','Returns','ReturnsPesos','Demand','Sales_L1','SalesPesos_L1'\n",
    "                 ,'Returns_L1','ReturnsPesos_L1','Demand_L1','Sales_L2','SalesPesos_L2','Returns_L2','ReturnsPesos_L2'\n",
    "                 ,'Demand_L2','Sales_L3','SalesPesos_L3','Returns_L3','ReturnsPesos_L3','Demand_L3']\n",
    "\n",
    "# load the training data in full, skip the column headings on the first rows\n",
    "t0 = time.time() \n",
    "df_train = pd.read_csv(data_location + train_file,names=train_columns,skiprows=1)\n",
    "print 'loading complete in: ', time.time()-t0, ' seconds'"
   ]
  },
  {
   "cell_type": "code",
   "execution_count": 32,
   "metadata": {
    "collapsed": false
   },
   "outputs": [
    {
     "name": "stdout",
     "output_type": "stream",
     "text": [
      "(20928, 28) (1078050, 33)\n"
     ]
    }
   ],
   "source": [
    "# start by dropping some features - mainly due to memory constraints when converting to encoded features!\n",
    "new_train = df_train.drop(['AgencyId','ClientId','ProductId','ClientName','RouteId'],axis=1)\n",
    "\n",
    "# now aggregate over the remaining categorical features\n",
    "new_train = new_train.groupby(by=['ProductName','ProductPieces','ProductWeight','SupplierCode','WeekNumber',\n",
    "                                    'State','Town','ChannelId'],as_index=False).sum()\n",
    "\n",
    "print new_train.shape, df_train.shape"
   ]
  },
  {
   "cell_type": "code",
   "execution_count": 33,
   "metadata": {
    "collapsed": false
   },
   "outputs": [
    {
     "name": "stdout",
     "output_type": "stream",
     "text": [
      "(20928, 471)\n"
     ]
    }
   ],
   "source": [
    "# now we have to create encoded features for the categorical features\n",
    "vec = DictVectorizer()\n",
    "    \n",
    "vec_data = pd.DataFrame(vec.fit_transform(new_train[['ProductName','ProductPieces','ProductWeight','WeekNumber',\n",
    "                                                       'State','Town','ChannelId','SupplierCode']]\n",
    "                                          .to_dict(orient='records')).toarray())\n",
    "vec_data.columns = vec.get_feature_names()\n",
    "vec_data.index = new_train.index\n",
    "    \n",
    "new_train = new_train.drop(['ProductName','ProductPieces','ProductWeight',\n",
    "                            'WeekNumber','State','Town','ChannelId','SupplierCode'], axis=1)\n",
    "new_train = new_train.join(vec_data)\n",
    "\n",
    "print new_train.shape"
   ]
  },
  {
   "cell_type": "code",
   "execution_count": 34,
   "metadata": {
    "collapsed": false
   },
   "outputs": [
    {
     "name": "stdout",
     "output_type": "stream",
     "text": [
      "(5346, 471)\n",
      "(15582, 471)\n",
      "GradientBoostingRegressor(alpha=0.9, init=None, learning_rate=0.1, loss='ls',\n",
      "             max_depth=4, max_features=None, max_leaf_nodes=None,\n",
      "             min_samples_leaf=1, min_samples_split=2,\n",
      "             min_weight_fraction_leaf=0.0, n_estimators=100,\n",
      "             presort='auto', random_state=42, subsample=1.0, verbose=0,\n",
      "             warm_start=False)\n",
      "12.8239998817\n"
     ]
    }
   ],
   "source": [
    "# now........let's hive off week 9 as the unseen set\n",
    "df_unseen = new_train[new_train['WeekNumber']==9]\n",
    "new_train = new_train[new_train['WeekNumber']!=9]\n",
    "\n",
    "print df_unseen.shape\n",
    "print new_train.shape\n",
    "\n",
    "# let's separate new_train into X and y, drop 'this week's labels from X and put this week's label into y\n",
    "X = new_train.drop(['Sales','Demand','Returns','SalesPesos','ReturnsPesos'],axis=1)\n",
    "y = new_train['Demand']\n",
    "\n",
    "# fill NaN values with 0 as this means there were no sales for that combination of categories\n",
    "X = X.fillna(0)\n",
    "y = y.fillna(0)\n",
    "\n",
    "# split using a randomised split into 2/3 and 1/3\n",
    "X_train, X_test, y_train, y_test = train_test_split(X, y, test_size=0.33, random_state=42)\n",
    "\n",
    "# create a regression entity based on gradient boosting with initial params\n",
    "reg = GradientBoostingRegressor(n_estimators=100, learning_rate=0.1,max_depth=4, random_state=42, loss='ls')\n",
    "print reg\n",
    "t0 = time.time()\n",
    "\n",
    "# fit to data\n",
    "reg.fit(X_train, y_train)\n",
    "t1 = time.time()\n",
    "\n",
    "total = t1-t0\n",
    "print total"
   ]
  },
  {
   "cell_type": "code",
   "execution_count": 36,
   "metadata": {
    "collapsed": false
   },
   "outputs": [
    {
     "name": "stdout",
     "output_type": "stream",
     "text": [
      "The benchmark RMSE is 328.9221. The model RMSE is 255.1222\n"
     ]
    }
   ],
   "source": [
    "# now predict using the model against the test data and calc rmse\n",
    "rmse = np.sqrt(mean_squared_error(y_test, reg.predict(X_test)))\n",
    "\n",
    "# calculate benchmark error\n",
    "benchmark = X_test['Demand_L1']\n",
    "bmk = np.sqrt(mean_squared_error(y_test, benchmark))\n",
    "\n",
    "# show the results\n",
    "print 'The benchmark RMSE is {:.4f}. The model RMSE is {:.4f}'.format(bmk,rmse)"
   ]
  },
  {
   "cell_type": "code",
   "execution_count": 37,
   "metadata": {
    "collapsed": false
   },
   "outputs": [
    {
     "name": "stdout",
     "output_type": "stream",
     "text": [
      "The benchmark RMSE is 489.9299. The model RMSE is 457.6523\n"
     ]
    }
   ],
   "source": [
    "# now let's try the unseen data...\n",
    "Z_features = df_unseen.drop(['Sales','Demand','Returns','SalesPesos','ReturnsPesos'],axis=1)\n",
    "z_label = df_unseen['Demand']\n",
    "\n",
    "# fill NaN values\n",
    "Z_features = Z_features.fillna(0)\n",
    "z_label = z_label.fillna(0)\n",
    "\n",
    "# try against the model\n",
    "rmse = np.sqrt(mean_squared_error(z_label, reg.predict(Z_features)))\n",
    "\n",
    "# calculate benchmark error\n",
    "benchmark = Z_features['Demand_L1']\n",
    "bmk = np.sqrt(mean_squared_error(z_label, benchmark))\n",
    "\n",
    "# show the results\n",
    "print 'The benchmark RMSE is {:.4f}. The model RMSE is {:.4f}'.format(bmk,rmse)"
   ]
  },
  {
   "cell_type": "code",
   "execution_count": 8,
   "metadata": {
    "collapsed": false
   },
   "outputs": [
    {
     "name": "stdout",
     "output_type": "stream",
     "text": [
      "Top 10 feature ranking:\n",
      "1. feature 0 (0.134999) Sales_L1\n",
      "2. feature 4 (0.098192) Demand_L1\n",
      "3. feature 10 (0.088241) Sales_L3\n",
      "4. feature 5 (0.054889) Sales_L2\n",
      "5. feature 14 (0.049364) Demand_L3\n",
      "6. feature 1 (0.044503) SalesPesos_L1\n",
      "7. feature 9 (0.037483) Demand_L2\n",
      "8. feature 465 (0.028102) WeekNumber\n",
      "9. feature 6 (0.026233) SalesPesos_L2\n",
      "10. feature 2 (0.023454) Returns_L1\n"
     ]
    }
   ],
   "source": [
    "# model importances\n",
    "importances = reg.feature_importances_\n",
    "indices = np.argsort(importances)[::-1]\n",
    "\n",
    "# Print the feature ranking\n",
    "print(\"Top 10 feature ranking:\")\n",
    "\n",
    "for f in range(10):\n",
    "    print(\"%d. feature %d (%f) %s\" % (f + 1, indices[f], importances[indices[f]], X_train.columns.values[indices[f]]))"
   ]
  },
  {
   "cell_type": "code",
   "execution_count": 73,
   "metadata": {
    "collapsed": false
   },
   "outputs": [
    {
     "name": "stdout",
     "output_type": "stream",
     "text": [
      "3710.68099999\n",
      "GradientBoostingRegressor(alpha=0.9, init=None, learning_rate=0.2, loss='ls',\n",
      "             max_depth=4, max_features=None, max_leaf_nodes=None,\n",
      "             min_samples_leaf=1, min_samples_split=100,\n",
      "             min_weight_fraction_leaf=0.0, n_estimators=50, presort='auto',\n",
      "             random_state=42, subsample=1.0, verbose=0, warm_start=False)\n",
      "0.918198261329\n"
     ]
    }
   ],
   "source": [
    "# let's tune the model...\n",
    "# let's start to tune...\n",
    "params = {'n_estimators':[50,100],'learning_rate' : [0.2,0.1,0.05],'max_depth':[4,6,8],'min_samples_split':[10,50,100]}\n",
    "\n",
    "t0 = time.time()\n",
    "gscv = GridSearchCV(reg,param_grid=params,cv=5)\n",
    "\n",
    "gscv.fit(X_train,y_train)\n",
    "t1 = time.time()\n",
    "\n",
    "total = t1-t0\n",
    "print total\n",
    "\n",
    "print gscv.best_estimator_\n",
    "print gscv.best_score_"
   ]
  },
  {
   "cell_type": "code",
   "execution_count": 80,
   "metadata": {
    "collapsed": false
   },
   "outputs": [
    {
     "name": "stdout",
     "output_type": "stream",
     "text": [
      "0.950434428693\n",
      "RMSE: 253.6799\n",
      "0.852927131218\n",
      "RMSE: 459.0722\n"
     ]
    }
   ],
   "source": [
    "print gscv.score(X_test,y_test)\n",
    "mse = np.sqrt(mean_squared_error(y_test, gscv.predict(X_test)))\n",
    "print(\"RMSE: %.4f\" % mse)\n",
    "\n",
    "print gscv.score(Z_features,z_label)\n",
    "mse = np.sqrt(mean_squared_error(z_label, gscv.predict(Z_features)))\n",
    "print(\"RMSE: %.4f\" % mse)"
   ]
  },
  {
   "cell_type": "code",
   "execution_count": 29,
   "metadata": {
    "collapsed": false
   },
   "outputs": [
    {
     "name": "stdout",
     "output_type": "stream",
     "text": [
      "total demand was:  2119490.0\n",
      "total demand predicted is:  2077583.3943\n",
      "%age error is:  0.019772023319\n",
      "count    5143.000000\n",
      "mean       92.808163\n",
      "std       237.665664\n",
      "min         0.014828\n",
      "25%        15.526179\n",
      "50%        31.015358\n",
      "75%        78.740412\n",
      "max      4103.952811\n",
      "Name: Demand, dtype: float64\n",
      "count     5143.000000\n",
      "mean       412.111608\n",
      "std       1139.562663\n",
      "min          0.000000\n",
      "25%         23.000000\n",
      "50%         96.000000\n",
      "75%        360.000000\n",
      "max      38512.000000\n",
      "Name: Demand, dtype: float64\n"
     ]
    },
    {
     "data": {
      "text/plain": [
       "<matplotlib.axes._subplots.AxesSubplot at 0x7ba954a8>"
      ]
     },
     "execution_count": 29,
     "metadata": {},
     "output_type": "execute_result"
    },
    {
     "data": {
      "image/png": "[encoded data removed]",
      "text/plain": [
       "<matplotlib.figure.Figure at 0x7a1b3ef0>"
      ]
     },
     "metadata": {},
     "output_type": "display_data"
    }
   ],
   "source": [
    "#let's plot a histogram of the errors\n",
    "print 'total demand was: ', np.sum(y_test)\n",
    "print 'total demand predicted is: ',np.sum(reg.predict(X_test))\n",
    "print '%age error is: ',np.divide(np.subtract(np.sum(y_test),np.sum(reg.predict(X_test))),np.sum(y_test))\n",
    "error = np.subtract(y_test, reg.predict(X_test))\n",
    "\n",
    "fig,axes = plt.subplots(nrows=1,ncols=2,figsize=(15,5))\n",
    "error.plot(ax=axes[0],kind='kde',title='log error density',logx=True)\n",
    "\n",
    "# and for absolute error\n",
    "error = np.absolute(np.subtract(y_test, reg.predict(X_test)))\n",
    "print error.describe()\n",
    "print y_test.describe()\n",
    "error.plot(ax=axes[1],kind='hist',bins=100,logx=False,title='absolute error histogram',xlim=(0,500))"
   ]
  },
  {
   "cell_type": "code",
   "execution_count": null,
   "metadata": {
    "collapsed": true
   },
   "outputs": [],
   "source": []
  }
 ],
 "metadata": {
  "kernelspec": {
   "display_name": "Python 2",
   "language": "python",
   "name": "python2"
  },
  "language_info": {
   "codemirror_mode": {
    "name": "ipython",
    "version": 2
   },
   "file_extension": ".py",
   "mimetype": "text/x-python",
   "name": "python",
   "nbconvert_exporter": "python",
   "pygments_lexer": "ipython2",
   "version": "2.7.12"
  }
 },
 "nbformat": 4,
 "nbformat_minor": 0
}
