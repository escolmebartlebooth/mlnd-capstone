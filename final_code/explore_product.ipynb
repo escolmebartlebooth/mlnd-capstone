{
 "cells": [
  {
   "cell_type": "markdown",
   "metadata": {},
   "source": [
    "## Data Exploration: Product Lookup Data\n",
    "In this notebook, we'll do some basic exploration of the product data lookup file to get a better domain understanding and also to assess if any product features can be extracted. Product in this context is the specific set of bakery products sold by grupo bimbo, for example bread or biscuits.\n",
    "\n",
    "The notebook relies on the producto_tabla.csv being located in '../data."
   ]
  },
  {
   "cell_type": "code",
   "execution_count": 1,
   "metadata": {
    "collapsed": true
   },
   "outputs": [],
   "source": [
    "# Imports go here\n",
    "import re\n",
    "import time\n",
    "import numpy as np\n",
    "import pandas as pd\n",
    "import matplotlib.pyplot as plt\n",
    "%matplotlib inline\n",
    "\n",
    "# specify a data file path\n",
    "data_location = \"../data/\""
   ]
  },
  {
   "cell_type": "markdown",
   "metadata": {},
   "source": [
    "### Getting Started\n",
    "We'll load the file, produce basic statistics, look at data"
   ]
  },
  {
   "cell_type": "code",
   "execution_count": 2,
   "metadata": {
    "collapsed": false
   },
   "outputs": [
    {
     "name": "stdout",
     "output_type": "stream",
     "text": [
      "there are 2592 products in the lookup table\n",
      "   ProductId                             ProductName\n",
      "0          0                       NO IDENTIFICADO 0\n",
      "1          9               Capuccino Moka 750g NES 9\n",
      "2         41  Bimbollos Ext sAjonjoli 6p 480g BIM 41\n",
      "3         53          Burritos Sincro 170g CU LON 53\n",
      "4         72     Div Tira Mini Doradita 4p 45g TR 72\n"
     ]
    }
   ],
   "source": [
    "# let's load the product table into a dataframe and produce a basic count of items and show the first 5 lines\n",
    "product_lookup = \"producto_tabla.csv\"\n",
    "product_columns = ['ProductId','ProductName']\n",
    "df_product = pd.read_csv(data_location + product_lookup,names=product_columns,skiprows=1)\n",
    "\n",
    "# basic count of entry...\n",
    "print \"there are {} products in the lookup table\".format(len(df_product.index))\n",
    "\n",
    "# first 5 lines\n",
    "print df_product.head(5)"
   ]
  },
  {
   "cell_type": "markdown",
   "metadata": {},
   "source": [
    "### First Impressions\n",
    "We can see that there is an Id which is unique for each product.\n",
    "\n",
    "There is a Name field for the product which contains a space delimited text description, weight of product, number of pieces and what looks like a supplier mnemonic (NES, BIM, etc) followed by the Id. The description is not a strictly followed format but could be used to engineer additional product features for the model to enable patterns to be found.\n",
    "\n",
    "Let's look for duplicate entries, parse the description to create additional features and save the output to a new file"
   ]
  },
  {
   "cell_type": "code",
   "execution_count": 3,
   "metadata": {
    "collapsed": false
   },
   "outputs": [
    {
     "name": "stdout",
     "output_type": "stream",
     "text": [
      "there are 0 duplicate Product Ids and 0 duplicate names.\n"
     ]
    }
   ],
   "source": [
    "# check for duplicate product ids or product names\n",
    "list_of_dupes_id = df_product.duplicated('ProductId')\n",
    "list_of_dupes_name = df_product.duplicated('ProductName')\n",
    "\n",
    "# if there are any duplicate Ids, remove all but one as linking to the training data will be flawed otherwise\n",
    "number_duplicate_ids = len(list_of_dupes_id[list_of_dupes_id == True].index)\n",
    "number_duplicate_names = len(list_of_dupes_name[list_of_dupes_name == True].index)\n",
    "print \"there are {} duplicate Product Ids and {} duplicate names.\".format(number_duplicate_ids,number_duplicate_names)\n",
    "df_product = df_product.drop_duplicates('ProductId')"
   ]
  },
  {
   "cell_type": "code",
   "execution_count": 4,
   "metadata": {
    "collapsed": false
   },
   "outputs": [
    {
     "name": "stdout",
     "output_type": "stream",
     "text": [
      "   ProductId OriginalName ProductName ProductPieces ProductWeight  \\\n",
      "0          0                       NO          None          None   \n",
      "1          9                Capuccino          None         750g    \n",
      "2         41                Bimbollos           6p          480g    \n",
      "3         53                 Burritos          None         170g    \n",
      "4         72                      Div           4p           45g    \n",
      "\n",
      "   SupplierCode  \n",
      "0  IDENTIFICADO  \n",
      "1           NES  \n",
      "2           BIM  \n",
      "3           LON  \n",
      "4            TR  \n"
     ]
    }
   ],
   "source": [
    "# now engineer additional product features using text processing\n",
    "data_file = \"producto_tabla.csv\"\n",
    "file_in = data_location + \"/\" + data_file\n",
    "file_out = data_location + \"/\" + \"engineered_\" + data_file\n",
    "\n",
    "# regex to extract entries from a string for a number followed by 'g' or 'ml' and a number followed by 'p'\n",
    "re_weight = re.compile('\\\\d*(g |ml )')\n",
    "re_pieces = re.compile('\\\\d*(p )')\n",
    "\n",
    "# open the input and output files\n",
    "input_file = open(file_in, 'rb')\n",
    "output_file = open(file_out, 'wb')\n",
    "i = 1\n",
    "\n",
    "# iterate through the input file line by line\n",
    "for line in input_file:\n",
    "    if (i == 1):\n",
    "        # write out first line\n",
    "        output_file.write(\"ID,ORIGINAL_NAME,PRODUCT_NAME,PIECES,WEIGHT,MNEMONIC\\n\")\n",
    "        i += 1\n",
    "    else:\n",
    "        # the product name will be the first text before the first space in the second attribute of each line\n",
    "        product_name = line.split(',')[1].split(' ')[0]\n",
    "        \n",
    "        # the product mnemonic is the second to last split by space on the second attribute\n",
    "        product_mnemonic = line.split(',')[1].split(' ')[-2]\n",
    "        \n",
    "        # if the regex matches the %dg or %dml then write out the weight otherwise write none\n",
    "        if re_weight.search(line):\n",
    "            product_weight = re_weight.search(line).group()\n",
    "        else:\n",
    "            product_weight = 'None'\n",
    "            \n",
    "        # if the regex matches the %p then write out the pieces otherwise write none\n",
    "        if re_pieces.search(line):\n",
    "            product_pieces = re_pieces.search(line).group()\n",
    "        else:\n",
    "            product_pieces = 'None'\n",
    "            \n",
    "        # capture the product Id\n",
    "        product_id = line.split(',')[0]\n",
    "        \n",
    "        # placeholder to capture original name\n",
    "        \n",
    "        # write out the line\n",
    "        output_file.write(product_id+\",\"+' ,'+product_name+\",\"+product_pieces+\",\"\n",
    "                          +product_weight+','+product_mnemonic+\"\\n\")\n",
    "    \n",
    "# close the files\n",
    "input_file.close()\n",
    "output_file.close()\n",
    "\n",
    "# load the engineered product table\n",
    "product_lookup = \"engineered_producto_tabla.csv\"\n",
    "product_columns = ['ProductId','OriginalName','ProductName','ProductPieces','ProductWeight','SupplierCode']\n",
    "df_product = pd.read_csv(data_location + product_lookup,names=product_columns,skiprows=1)\n",
    "\n",
    "# show the first few lines\n",
    "print df_product.head()"
   ]
  },
  {
   "cell_type": "markdown",
   "metadata": {},
   "source": [
    "### Aggregation\n",
    "Now we have a reengineered product file, let's look at some aggregates for each of the new features. \n",
    "\n",
    "Most of the features extracted have a low value count (less than 10) but there are in all cases a good selection of high value count entries for each of the features. This should allow any patterns relating to the features to be identifiable and contribute to the robustness of the model"
   ]
  },
  {
   "cell_type": "code",
   "execution_count": 5,
   "metadata": {
    "collapsed": false
   },
   "outputs": [
    {
     "data": {
      "image/png": "[encoded data removed]",
      "text/plain": [
       "<matplotlib.figure.Figure at 0x9b7f240>"
      ]
     },
     "metadata": {},
     "output_type": "display_data"
    }
   ],
   "source": [
    "# how a histogram of product names, weights, pieces, supplier\n",
    "fig, axes = plt.subplots(nrows=2, ncols=2, figsize=(10,10))\n",
    "\n",
    "df_product['ProductName'].value_counts().plot.hist(ax=axes[0,0],bins=20,sharex=False,title='Product Name')\n",
    "df_product['ProductWeight'].value_counts().plot.hist(ax=axes[0,1],bins=20,sharex=False,title='Product Weight')\n",
    "df_product['ProductPieces'].value_counts().plot.hist(ax=axes[1,0],bins=20,sharex=False,title='Product Pieces')\n",
    "df_product['SupplierCode'].value_counts().plot.hist(ax=axes[1,1],bins=20,sharex=False,title='Supplier Code')\n",
    "\n",
    "plt.subplots_adjust(left=None, bottom=None, right=None, top=None,\n",
    "                wspace=None, hspace=None)"
   ]
  },
  {
   "cell_type": "code",
   "execution_count": 6,
   "metadata": {
    "collapsed": false
   },
   "outputs": [
    {
     "name": "stdout",
     "output_type": "stream",
     "text": [
      "     ProductName  ProductId\n",
      "191          Pan        179\n",
      "99           Duo         96\n",
      "90    Deliciosas         92\n",
      "259  Suavicremas         65\n",
      "275     Tortilla         60\n",
      "    ProductWeight  ProductId\n",
      "326            g          80\n",
      "71          180g          72\n",
      "269         680g          71\n",
      "325          None         59\n",
      "90          200g          53\n",
      "   ProductPieces  ProductId\n",
      "36          None       1463\n",
      "34           8p         164\n",
      "32           6p         159\n",
      "19           2p         101\n",
      "2           10p          90\n",
      "   SupplierCode  ProductId\n",
      "4           BIM        679\n",
      "23          MLA        657\n",
      "40           TR        257\n",
      "19          LAR        182\n",
      "14          GBI        130\n"
     ]
    }
   ],
   "source": [
    "# finally let's look at some of the larger count values...\n",
    "print df_product.groupby(by='ProductName', \n",
    "                         as_index=False)['ProductId'].count().sort_values(by='ProductId',ascending=False).head(5)\n",
    "\n",
    "print df_product.groupby(by='ProductWeight', \n",
    "                         as_index=False)['ProductId'].count().sort_values(by='ProductId',ascending=False).head(5)\n",
    "\n",
    "print df_product.groupby(by='ProductPieces', \n",
    "                         as_index=False)['ProductId'].count().sort_values(by='ProductId',ascending=False).head(5)\n",
    "\n",
    "print df_product.groupby(by='SupplierCode', \n",
    "                         as_index=False)['ProductId'].count().sort_values(by='ProductId',ascending=False).head(5)"
   ]
  },
  {
   "cell_type": "markdown",
   "metadata": {},
   "source": [
    "### Summary\n",
    "The product look up has 2,500 approx entries and contains meta data within the name attribute which allows for some feature engineering."
   ]
  },
  {
   "cell_type": "code",
   "execution_count": null,
   "metadata": {
    "collapsed": true
   },
   "outputs": [],
   "source": []
  }
 ],
 "metadata": {
  "kernelspec": {
   "display_name": "Python 2",
   "language": "python",
   "name": "python2"
  },
  "language_info": {
   "codemirror_mode": {
    "name": "ipython",
    "version": 2
   },
   "file_extension": ".py",
   "mimetype": "text/x-python",
   "name": "python",
   "nbconvert_exporter": "python",
   "pygments_lexer": "ipython2",
   "version": "2.7.12"
  }
 },
 "nbformat": 4,
 "nbformat_minor": 0
}
