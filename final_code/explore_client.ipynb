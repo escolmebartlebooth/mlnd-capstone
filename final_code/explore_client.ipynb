{
 "cells": [
  {
   "cell_type": "markdown",
   "metadata": {},
   "source": [
    "## Data Exploration: Client Lookup Data\n",
    "In this notebook, we'll do some basic exploration of the client data lookup file to get a better domain understanding and also to assess if any client features can be extracted. Client in this context is the retailer / wholesaler who buys the bakery products from Grupo Bimbo.\n",
    "\n",
    "This notebook requires that the cliente_tabla.csv file is in '../data'"
   ]
  },
  {
   "cell_type": "code",
   "execution_count": 1,
   "metadata": {
    "collapsed": true
   },
   "outputs": [],
   "source": [
    "# Imports go here\n",
    "import re\n",
    "import time\n",
    "import numpy as np\n",
    "import pandas as pd\n",
    "import matplotlib.pyplot as plt\n",
    "%matplotlib inline\n",
    "\n",
    "# specify a data file path\n",
    "data_location = \"../data/\""
   ]
  },
  {
   "cell_type": "markdown",
   "metadata": {},
   "source": [
    "### Getting Started\n",
    "We'll load the file, produce basic statistics, look at data"
   ]
  },
  {
   "cell_type": "code",
   "execution_count": 2,
   "metadata": {
    "collapsed": false
   },
   "outputs": [
    {
     "name": "stdout",
     "output_type": "stream",
     "text": [
      "there are 935362 clients in the lookup table\n",
      "   ClientId                               ClientName\n",
      "0         0                               SIN NOMBRE\n",
      "1         1                         OXXO XINANTECATL\n",
      "2         2                               SIN NOMBRE\n",
      "3         3                                EL MORENO\n",
      "4         4  SDN SER  DE ALIM  CUERPO SA CIA  DE INT\n"
     ]
    }
   ],
   "source": [
    "# let's load the client table into a dataframe and produce a basic count of items and show the first 5 lines\n",
    "client_lookup = \"cliente_tabla.csv\"\n",
    "client_columns = ['ClientId','ClientName']\n",
    "df_client = pd.read_csv(data_location + client_lookup,names=client_columns,skiprows=1)\n",
    "\n",
    "# basic count of entry...\n",
    "print \"there are {} clients in the lookup table\".format(len(df_client.index))\n",
    "\n",
    "# first 5 lines\n",
    "print df_client.head(5)"
   ]
  },
  {
   "cell_type": "markdown",
   "metadata": {},
   "source": [
    "### First Impressions\n",
    "We can see that there is an Id which is unique for each client. There are a LOT of clients.\n",
    "\n",
    "There is a Name field for the client which could be used to engineer additional client features for the model to enable patterns to be found and to enable some level of aggregation / clustering.\n",
    "\n",
    "Let's look for duplicate entries, parse the name to try to create additional features and save the output to a new file"
   ]
  },
  {
   "cell_type": "code",
   "execution_count": 3,
   "metadata": {
    "collapsed": false
   },
   "outputs": [
    {
     "name": "stdout",
     "output_type": "stream",
     "text": [
      "there are 4862 duplicate Client Ids and 624207 duplicate names.\n"
     ]
    }
   ],
   "source": [
    "# check for duplicate product ids or product names\n",
    "list_of_dupes_id = df_client.duplicated('ClientId')\n",
    "list_of_dupes_name = df_client.duplicated('ClientName')\n",
    "\n",
    "# if there are any duplicate Ids, remove all but one as linking to the training data will be flawed otherwise\n",
    "number_duplicate_ids = len(list_of_dupes_id[list_of_dupes_id == True].index)\n",
    "number_duplicate_names = len(list_of_dupes_name[list_of_dupes_name == True].index)\n",
    "print \"there are {} duplicate Client Ids and {} duplicate names.\".format(number_duplicate_ids,number_duplicate_names)\n",
    "df_client = df_client.drop_duplicates('ClientId')"
   ]
  },
  {
   "cell_type": "code",
   "execution_count": 4,
   "metadata": {
    "collapsed": false
   },
   "outputs": [
    {
     "name": "stdout",
     "output_type": "stream",
     "text": [
      "   ClientId Original ClientName\n",
      "0         0                 SIN\n",
      "1         1                OXXO\n",
      "2         2                 SIN\n",
      "3         3                  EL\n",
      "4         4                 SDN\n"
     ]
    }
   ],
   "source": [
    "# let's re-engineer Client\n",
    "data_file = \"cliente_tabla.csv\"\n",
    "file_in = data_location + \"/\" + data_file\n",
    "file_out = data_location + \"/\" + \"engineered_\" + data_file\n",
    "\n",
    "# open the input and output files\n",
    "input_file = open(file_in, 'rb')\n",
    "output_file = open(file_out, 'wb')\n",
    "i = 1\n",
    "\n",
    "# iterate through the input file line by line\n",
    "for line in input_file:\n",
    "    if (i == 1):\n",
    "        # write out first line\n",
    "        output_file.write(\"ID,ORIGINAL,CLIENT_NAME\\n\")\n",
    "        i += 1\n",
    "    else:\n",
    "        # take the first text of the name before a space as the aggregated name\n",
    "        client_name = line.split(',')[1].split(' ')[0]\n",
    "        \n",
    "        # capture the id\n",
    "        client_id = line.split(',')[0]\n",
    "        \n",
    "        # placeholder for original client name\n",
    "        \n",
    "        # write out the line\n",
    "        output_file.write(client_id+\",\"+\" ,\"+client_name+\"\\n\")\n",
    "    \n",
    "# close the files\n",
    "input_file.close()\n",
    "output_file.close()\n",
    "\n",
    "# load the engineered client table\n",
    "client_lookup = \"engineered_cliente_tabla.csv\"\n",
    "client_columns = ['ClientId','Original','ClientName']\n",
    "df_client = pd.read_csv(data_location + client_lookup,names=client_columns,skiprows=1)\n",
    "\n",
    "# show the first few lines\n",
    "print df_client.head()"
   ]
  },
  {
   "cell_type": "markdown",
   "metadata": {},
   "source": [
    "### Aggregation\n",
    "Now we have a reengineered cilent file, let's look at some aggregates for the new features. \n",
    "\n",
    "Most of the features extracted have a low value count (less than 2) and there is a very large value count for 1% of clients"
   ]
  },
  {
   "cell_type": "code",
   "execution_count": 5,
   "metadata": {
    "collapsed": false
   },
   "outputs": [
    {
     "data": {
      "text/plain": [
       "count     36694.000000\n",
       "mean         25.490816\n",
       "std        1518.212939\n",
       "min           1.000000\n",
       "25%           1.000000\n",
       "50%           1.000000\n",
       "75%           2.000000\n",
       "80%           3.000000\n",
       "90%          10.000000\n",
       "95%          29.000000\n",
       "97.5%        79.675000\n",
       "99%         246.000000\n",
       "max      281710.000000\n",
       "Name: ClientName, dtype: float64"
      ]
     },
     "execution_count": 5,
     "metadata": {},
     "output_type": "execute_result"
    }
   ],
   "source": [
    "# value count stats\n",
    "df_client['ClientName'].value_counts().describe(percentiles=[0.25,0.5,0.75,0.8,0.9,0.95,0.975,0.99])"
   ]
  },
  {
   "cell_type": "code",
   "execution_count": 6,
   "metadata": {
    "collapsed": false
   },
   "outputs": [
    {
     "name": "stdout",
     "output_type": "stream",
     "text": [
      "\n",
      " Name has some good aggregates (OXXO, ESCUELA) but also quite a few bad ones (LA, NO)...\n",
      "       ClientName  ClientId\n",
      "24918          NO    281710\n",
      "19286          LA     48268\n",
      "255     ABARROTES     31544\n",
      "11147          EL     26282\n",
      "21666       MARIA     16042\n",
      "23408  MISCELANEA     15542\n",
      "25880        OXXO      8973\n",
      "31397       SUPER      8403\n",
      "20506         LOS      8156\n",
      "23213        MINI      6130\n"
     ]
    }
   ],
   "source": [
    "# finally let's look at some of the larger count values to see if they're useful...\n",
    "print '\\n Name has some good aggregates (OXXO, ESCUELA) but also quite a few bad ones (LA, NO)...'\n",
    "print df_client.groupby(by='ClientName', \n",
    "                         as_index=False)['ClientId'].count().sort_values(by='ClientId',ascending=False).head(10)"
   ]
  },
  {
   "cell_type": "markdown",
   "metadata": {},
   "source": [
    "### Summary\n",
    "The client look up has a large number of entries (>900k approx) and contains meta data within the name attribute which allows for some feature engineering"
   ]
  },
  {
   "cell_type": "code",
   "execution_count": null,
   "metadata": {
    "collapsed": true
   },
   "outputs": [],
   "source": []
  }
 ],
 "metadata": {
  "kernelspec": {
   "display_name": "Python 2",
   "language": "python",
   "name": "python2"
  },
  "language_info": {
   "codemirror_mode": {
    "name": "ipython",
    "version": 2
   },
   "file_extension": ".py",
   "mimetype": "text/x-python",
   "name": "python",
   "nbconvert_exporter": "python",
   "pygments_lexer": "ipython2",
   "version": "2.7.12"
  }
 },
 "nbformat": 4,
 "nbformat_minor": 0
}
